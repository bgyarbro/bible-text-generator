{
 "cells": [
  {
   "cell_type": "code",
   "execution_count": 1,
   "metadata": {
    "colab": {},
    "colab_type": "code",
    "id": "R7RNVjXQ-0ZK"
   },
   "outputs": [],
   "source": [
    "import pandas as pd\n",
    "import numpy as np\n",
    "import re\n",
    "import os"
   ]
  },
  {
   "cell_type": "code",
   "execution_count": 2,
   "metadata": {
    "colab": {},
    "colab_type": "code",
    "id": "Odmu2urJ-0Zj"
   },
   "outputs": [],
   "source": [
    "# reading Bible from file\n",
    "\n",
    "lines = []\n",
    "file = open(\"kjv-1769-clean.txt\")\n",
    "lines.append(file.read())"
   ]
  },
  {
   "cell_type": "code",
   "execution_count": 3,
   "metadata": {},
   "outputs": [],
   "source": [
    "lines_split = lines[0].split(\"\\n\")"
   ]
  },
  {
   "cell_type": "code",
   "execution_count": 4,
   "metadata": {},
   "outputs": [
    {
     "data": {
      "text/plain": [
       "['\"\\'\\'\"',\n",
       " '\"In the beginning God created the heaven and the earth.\"',\n",
       " '\"And the earth was without form, and void; and darkness was upon the face of the deep. And the Spirit of God moved upon the face of the waters.\"',\n",
       " '\"And God said, Let there be light: and there was light.\"',\n",
       " '\"And God saw the light, that it was good: and God divided the light from the darkness.\"']"
      ]
     },
     "execution_count": 4,
     "metadata": {},
     "output_type": "execute_result"
    }
   ],
   "source": [
    "lines_split[:5]"
   ]
  },
  {
   "cell_type": "code",
   "execution_count": 5,
   "metadata": {
    "colab": {},
    "colab_type": "code",
    "id": "HWgevD-2-0Z5"
   },
   "outputs": [],
   "source": [
    "lines = pd.DataFrame(lines_split, columns=['lines'])"
   ]
  },
  {
   "cell_type": "code",
   "execution_count": 6,
   "metadata": {},
   "outputs": [
    {
     "data": {
      "text/html": [
       "<div>\n",
       "<style scoped>\n",
       "    .dataframe tbody tr th:only-of-type {\n",
       "        vertical-align: middle;\n",
       "    }\n",
       "\n",
       "    .dataframe tbody tr th {\n",
       "        vertical-align: top;\n",
       "    }\n",
       "\n",
       "    .dataframe thead th {\n",
       "        text-align: right;\n",
       "    }\n",
       "</style>\n",
       "<table border=\"1\" class=\"dataframe\">\n",
       "  <thead>\n",
       "    <tr style=\"text-align: right;\">\n",
       "      <th></th>\n",
       "      <th>lines</th>\n",
       "    </tr>\n",
       "  </thead>\n",
       "  <tbody>\n",
       "    <tr>\n",
       "      <th>0</th>\n",
       "      <td>\"''\"</td>\n",
       "    </tr>\n",
       "    <tr>\n",
       "      <th>1</th>\n",
       "      <td>\"In the beginning God created the heaven and t...</td>\n",
       "    </tr>\n",
       "    <tr>\n",
       "      <th>2</th>\n",
       "      <td>\"And the earth was without form, and void; and...</td>\n",
       "    </tr>\n",
       "    <tr>\n",
       "      <th>3</th>\n",
       "      <td>\"And God said, Let there be light: and there w...</td>\n",
       "    </tr>\n",
       "    <tr>\n",
       "      <th>4</th>\n",
       "      <td>\"And God saw the light, that it was good: and ...</td>\n",
       "    </tr>\n",
       "  </tbody>\n",
       "</table>\n",
       "</div>"
      ],
      "text/plain": [
       "                                               lines\n",
       "0                                               \"''\"\n",
       "1  \"In the beginning God created the heaven and t...\n",
       "2  \"And the earth was without form, and void; and...\n",
       "3  \"And God said, Let there be light: and there w...\n",
       "4  \"And God saw the light, that it was good: and ..."
      ]
     },
     "execution_count": 6,
     "metadata": {},
     "output_type": "execute_result"
    }
   ],
   "source": [
    "lines.head()"
   ]
  },
  {
   "cell_type": "code",
   "execution_count": 7,
   "metadata": {},
   "outputs": [],
   "source": [
    "lines = lines[lines.lines != '\"\\'\\'\"']"
   ]
  },
  {
   "cell_type": "code",
   "execution_count": 8,
   "metadata": {},
   "outputs": [
    {
     "data": {
      "text/html": [
       "<div>\n",
       "<style scoped>\n",
       "    .dataframe tbody tr th:only-of-type {\n",
       "        vertical-align: middle;\n",
       "    }\n",
       "\n",
       "    .dataframe tbody tr th {\n",
       "        vertical-align: top;\n",
       "    }\n",
       "\n",
       "    .dataframe thead th {\n",
       "        text-align: right;\n",
       "    }\n",
       "</style>\n",
       "<table border=\"1\" class=\"dataframe\">\n",
       "  <thead>\n",
       "    <tr style=\"text-align: right;\">\n",
       "      <th></th>\n",
       "      <th>lines</th>\n",
       "    </tr>\n",
       "  </thead>\n",
       "  <tbody>\n",
       "    <tr>\n",
       "      <th>1</th>\n",
       "      <td>\"In the beginning God created the heaven and t...</td>\n",
       "    </tr>\n",
       "    <tr>\n",
       "      <th>2</th>\n",
       "      <td>\"And the earth was without form, and void; and...</td>\n",
       "    </tr>\n",
       "    <tr>\n",
       "      <th>3</th>\n",
       "      <td>\"And God said, Let there be light: and there w...</td>\n",
       "    </tr>\n",
       "    <tr>\n",
       "      <th>4</th>\n",
       "      <td>\"And God saw the light, that it was good: and ...</td>\n",
       "    </tr>\n",
       "    <tr>\n",
       "      <th>5</th>\n",
       "      <td>\"And God called the light Day, and the darknes...</td>\n",
       "    </tr>\n",
       "  </tbody>\n",
       "</table>\n",
       "</div>"
      ],
      "text/plain": [
       "                                               lines\n",
       "1  \"In the beginning God created the heaven and t...\n",
       "2  \"And the earth was without form, and void; and...\n",
       "3  \"And God said, Let there be light: and there w...\n",
       "4  \"And God saw the light, that it was good: and ...\n",
       "5  \"And God called the light Day, and the darknes..."
      ]
     },
     "execution_count": 8,
     "metadata": {},
     "output_type": "execute_result"
    }
   ],
   "source": [
    "lines.head()"
   ]
  },
  {
   "cell_type": "code",
   "execution_count": 9,
   "metadata": {
    "colab": {},
    "colab_type": "code",
    "id": "tNTXifyV-0aI"
   },
   "outputs": [],
   "source": [
    "def clean_text(sentence):\n",
    "    sentence = sentence.lower()\n",
    "\n",
    "    sentence = re.sub(r\"i'm\", \"i am\", sentence)\n",
    "    sentence = re.sub(r\"i’m\", \"i am\", sentence)\n",
    "\n",
    "    sentence = re.sub(r\"he's\", \"he is\", sentence)\n",
    "    sentence = re.sub(r\"he’s\", \"he is\", sentence)\n",
    "\n",
    "    sentence = re.sub(r\"she's\", \"she is\", sentence)\n",
    "    sentence = re.sub(r\"she’s\", \"she is\", sentence)\n",
    "\n",
    "    sentence = re.sub(r\"it's\", \"it is\", sentence)\n",
    "    sentence = re.sub(r\"it’s\", \"it is\", sentence)\n",
    "\n",
    "    sentence = re.sub(r\"that's\", \"that is\", sentence)\n",
    "    sentence = re.sub(r\"that’s\", \"that is\", sentence)\n",
    "\n",
    "    sentence = re.sub(r\"what's\", \"what is\", sentence)\n",
    "    sentence = re.sub(r\"what’s\", \"what is\", sentence)\n",
    "\n",
    "    sentence = re.sub(r\"where's\", \"where is\", sentence)\n",
    "    sentence = re.sub(r\"where’s\", \"where is\", sentence)\n",
    "\n",
    "    sentence = re.sub(r\"there's\", \"there is\", sentence)\n",
    "    sentence = re.sub(r\"there’s\", \"there is\", sentence)\n",
    "\n",
    "    sentence = re.sub(r\"who's\", \"who is\", sentence)\n",
    "    sentence = re.sub(r\"who’s\", \"who is\", sentence)\n",
    "\n",
    "    sentence = re.sub(r\"how's\", \"how is\", sentence)\n",
    "    sentence = re.sub(r\"how’s\", \"how is\", sentence)\n",
    "\n",
    "    sentence = re.sub(r\"\\'ll\", \" will\", sentence)\n",
    "    sentence = re.sub(r\"’ll\", \" will\", sentence)\n",
    "\n",
    "    sentence = re.sub(r\"\\'ve\", \" have\", sentence)\n",
    "    sentence = re.sub(r\"’ve\", \" have\", sentence)\n",
    "\n",
    "    sentence = re.sub(r\"\\'re\", \" are\", sentence)\n",
    "    sentence = re.sub(r\"’re\", \" are\", sentence)\n",
    "\n",
    "    sentence = re.sub(r\"\\'d\", \" would\", sentence)\n",
    "    sentence = re.sub(r\"’d\", \" would\", sentence)\n",
    "\n",
    "    sentence = re.sub(r\"won't\", \"will not\", sentence)\n",
    "    sentence = re.sub(r\"won’t\", \"will not\", sentence)\n",
    "\n",
    "    sentence = re.sub(r\"can't\", \"cannot\", sentence)\n",
    "    sentence = re.sub(r\"can’t\", \"cannot\", sentence)\n",
    "\n",
    "    sentence = re.sub(r\"n't\", \" not\", sentence)\n",
    "    sentence = re.sub(r\"n’t\", \" not\", sentence)\n",
    "\n",
    "    sentence = re.sub(r\"n'\", \"ng\", sentence)\n",
    "    sentence = re.sub(r\"n’\", \"ng\", sentence)\n",
    "\n",
    "    sentence = re.sub(r\"'bout\", \"about\", sentence)\n",
    "    sentence = re.sub(r\"’bout\", \"about\", sentence)\n",
    "\n",
    "    sentence = re.sub(r\"'til\", \"until\", sentence)\n",
    "    sentence = re.sub(r\"’til\", \"until\", sentence)\n",
    "\n",
    "    sentence = re.sub(r\"c'mon\", \"come on\", sentence)\n",
    "    sentence = re.sub(r\"c’mon\", \"come on\", sentence)\n",
    "    \n",
    "    sentence = re.sub(\"\\n\", \"\", sentence)\n",
    "\n",
    "    sentence = re.sub(\"[-*/()\\\"’'#/@;:<>{}`+=~|.!?,]\", \"\", sentence)\n",
    "    \n",
    "    return sentence"
   ]
  },
  {
   "cell_type": "code",
   "execution_count": 10,
   "metadata": {
    "colab": {},
    "colab_type": "code",
    "id": "d50elWmV-0aV"
   },
   "outputs": [],
   "source": [
    "lines.lines = lines.lines.apply(lambda line: clean_text(line))"
   ]
  },
  {
   "cell_type": "code",
   "execution_count": 11,
   "metadata": {
    "colab": {
     "base_uri": "https://localhost:8080/",
     "height": 206
    },
    "colab_type": "code",
    "executionInfo": {
     "elapsed": 1567,
     "status": "ok",
     "timestamp": 1588745752194,
     "user": {
      "displayName": "rohan jagtap",
      "photoUrl": "https://lh3.googleusercontent.com/a-/AOh14GjFFnpJjw-7WaiTzz7xrkIJjBBwMs5i3OwVVYALIg=s64",
      "userId": "07173842849534370372"
     },
     "user_tz": -330
    },
    "id": "1LO3UQhl-0al",
    "outputId": "08ac8329-c448-4868-dbcb-b744a14825f7"
   },
   "outputs": [
    {
     "data": {
      "text/html": [
       "<div>\n",
       "<style scoped>\n",
       "    .dataframe tbody tr th:only-of-type {\n",
       "        vertical-align: middle;\n",
       "    }\n",
       "\n",
       "    .dataframe tbody tr th {\n",
       "        vertical-align: top;\n",
       "    }\n",
       "\n",
       "    .dataframe thead th {\n",
       "        text-align: right;\n",
       "    }\n",
       "</style>\n",
       "<table border=\"1\" class=\"dataframe\">\n",
       "  <thead>\n",
       "    <tr style=\"text-align: right;\">\n",
       "      <th></th>\n",
       "      <th>lines</th>\n",
       "    </tr>\n",
       "  </thead>\n",
       "  <tbody>\n",
       "    <tr>\n",
       "      <th>1</th>\n",
       "      <td>in the beginning god created the heaven and th...</td>\n",
       "    </tr>\n",
       "    <tr>\n",
       "      <th>2</th>\n",
       "      <td>and the earth was without form and void and da...</td>\n",
       "    </tr>\n",
       "    <tr>\n",
       "      <th>3</th>\n",
       "      <td>and god said let there be light and there was ...</td>\n",
       "    </tr>\n",
       "    <tr>\n",
       "      <th>4</th>\n",
       "      <td>and god saw the light that it was good and god...</td>\n",
       "    </tr>\n",
       "    <tr>\n",
       "      <th>5</th>\n",
       "      <td>and god called the light day and the darkness ...</td>\n",
       "    </tr>\n",
       "  </tbody>\n",
       "</table>\n",
       "</div>"
      ],
      "text/plain": [
       "                                               lines\n",
       "1  in the beginning god created the heaven and th...\n",
       "2  and the earth was without form and void and da...\n",
       "3  and god said let there be light and there was ...\n",
       "4  and god saw the light that it was good and god...\n",
       "5  and god called the light day and the darkness ..."
      ]
     },
     "execution_count": 11,
     "metadata": {},
     "output_type": "execute_result"
    }
   ],
   "source": [
    "lines.head()"
   ]
  },
  {
   "cell_type": "code",
   "execution_count": 12,
   "metadata": {
    "colab": {
     "base_uri": "https://localhost:8080/",
     "height": 34
    },
    "colab_type": "code",
    "executionInfo": {
     "elapsed": 1361,
     "status": "ok",
     "timestamp": 1588745752195,
     "user": {
      "displayName": "rohan jagtap",
      "photoUrl": "https://lh3.googleusercontent.com/a-/AOh14GjFFnpJjw-7WaiTzz7xrkIJjBBwMs5i3OwVVYALIg=s64",
      "userId": "07173842849534370372"
     },
     "user_tz": -330
    },
    "id": "sYDJq60DiwpR",
    "outputId": "b6338fac-ae28-4407-a5c8-b5221eac5f33"
   },
   "outputs": [
    {
     "data": {
      "text/plain": [
       "(31102, 1)"
      ]
     },
     "execution_count": 12,
     "metadata": {},
     "output_type": "execute_result"
    }
   ],
   "source": [
    "lines.shape"
   ]
  },
  {
   "cell_type": "code",
   "execution_count": 13,
   "metadata": {
    "colab": {},
    "colab_type": "code",
    "id": "VKEfXByiFq_5"
   },
   "outputs": [],
   "source": [
    "lines.lines = lines.lines.apply(lambda line: line.split())"
   ]
  },
  {
   "cell_type": "code",
   "execution_count": 14,
   "metadata": {
    "colab": {},
    "colab_type": "code",
    "id": "EX8mMxFv-0a5"
   },
   "outputs": [],
   "source": [
    "x_train = [line[:-1] for line in lines.lines]\n",
    "y_train = [line[1:] for line in lines.lines]"
   ]
  },
  {
   "cell_type": "code",
   "execution_count": 15,
   "metadata": {
    "colab": {},
    "colab_type": "code",
    "id": "t6cueFD--0bb"
   },
   "outputs": [],
   "source": [
    "from tensorflow.keras.preprocessing.text import Tokenizer\n",
    "from tensorflow.keras.preprocessing.sequence import pad_sequences"
   ]
  },
  {
   "cell_type": "code",
   "execution_count": 16,
   "metadata": {
    "colab": {},
    "colab_type": "code",
    "id": "tT51cTsN-0bm"
   },
   "outputs": [],
   "source": [
    "tokenizer = Tokenizer()"
   ]
  },
  {
   "cell_type": "code",
   "execution_count": 17,
   "metadata": {
    "colab": {},
    "colab_type": "code",
    "id": "wsTwQX2a-0by"
   },
   "outputs": [],
   "source": [
    "tokenizer.fit_on_texts(lines.lines)"
   ]
  },
  {
   "cell_type": "code",
   "execution_count": 18,
   "metadata": {
    "colab": {},
    "colab_type": "code",
    "id": "xyZARYVe-0b-"
   },
   "outputs": [],
   "source": [
    "x_train = tokenizer.texts_to_sequences(x_train)\n",
    "y_train = tokenizer.texts_to_sequences(y_train)"
   ]
  },
  {
   "cell_type": "code",
   "execution_count": 19,
   "metadata": {
    "colab": {},
    "colab_type": "code",
    "id": "JivHjswYQqsD"
   },
   "outputs": [],
   "source": [
    "word2idx = tokenizer.word_index\n",
    "idx2word = {value: key for key, value in word2idx.items()}"
   ]
  },
  {
   "cell_type": "code",
   "execution_count": 20,
   "metadata": {
    "colab": {},
    "colab_type": "code",
    "id": "gc1P4IYWlDzV"
   },
   "outputs": [],
   "source": [
    "word2idx[\"<pad>\"] = 0\n",
    "idx2word[0] = \"<pad>\""
   ]
  },
  {
   "cell_type": "code",
   "execution_count": 21,
   "metadata": {
    "colab": {
     "base_uri": "https://localhost:8080/",
     "height": 173
    },
    "colab_type": "code",
    "executionInfo": {
     "elapsed": 2580,
     "status": "ok",
     "timestamp": 1588745755088,
     "user": {
      "displayName": "rohan jagtap",
      "photoUrl": "https://lh3.googleusercontent.com/a-/AOh14GjFFnpJjw-7WaiTzz7xrkIJjBBwMs5i3OwVVYALIg=s64",
      "userId": "07173842849534370372"
     },
     "user_tz": -330
    },
    "id": "hYmlGZ8E-0cQ",
    "outputId": "f040cbac-6fd0-4188-9212-c47ba9b23b1e"
   },
   "outputs": [
    {
     "data": {
      "text/plain": [
       "count    31102.000000\n",
       "mean        24.387917\n",
       "std         11.079717\n",
       "min          1.000000\n",
       "25%         16.000000\n",
       "50%         23.000000\n",
       "75%         31.000000\n",
       "max         89.000000\n",
       "dtype: float64"
      ]
     },
     "execution_count": 21,
     "metadata": {},
     "output_type": "execute_result"
    }
   ],
   "source": [
    "lengths = []\n",
    "\n",
    "for sequence in x_train:\n",
    "    lengths.append(len(sequence))\n",
    "    \n",
    "lengths = pd.Series(lengths)\n",
    "lengths.describe()"
   ]
  },
  {
   "cell_type": "code",
   "execution_count": 30,
   "metadata": {
    "colab": {
     "base_uri": "https://localhost:8080/",
     "height": 34
    },
    "colab_type": "code",
    "executionInfo": {
     "elapsed": 1903,
     "status": "ok",
     "timestamp": 1588745755088,
     "user": {
      "displayName": "rohan jagtap",
      "photoUrl": "https://lh3.googleusercontent.com/a-/AOh14GjFFnpJjw-7WaiTzz7xrkIJjBBwMs5i3OwVVYALIg=s64",
      "userId": "07173842849534370372"
     },
     "user_tz": -330
    },
    "id": "v3IdStVW-0ch",
    "outputId": "5d8d34fe-64ed-4eed-c2fd-27aa3177803e"
   },
   "outputs": [
    {
     "data": {
      "text/plain": [
       "12698"
      ]
     },
     "execution_count": 30,
     "metadata": {},
     "output_type": "execute_result"
    }
   ],
   "source": [
    "maxlen = 90\n",
    "vocab_size = len(tokenizer.word_index) + 1\n",
    "embedding_dim = 512\n",
    "vocab_size"
   ]
  },
  {
   "cell_type": "code",
   "execution_count": 23,
   "metadata": {
    "colab": {},
    "colab_type": "code",
    "id": "AY_uinnF-0co"
   },
   "outputs": [],
   "source": [
    "x_train = pad_sequences(x_train, maxlen=maxlen, padding='post', truncating='post')\n",
    "y_train = pad_sequences(y_train, maxlen=maxlen, padding='post', truncating='post')"
   ]
  },
  {
   "cell_type": "code",
   "execution_count": 31,
   "metadata": {},
   "outputs": [
    {
     "data": {
      "text/plain": [
       "array([[   6,    1,  678, ...,    0,    0,    0],\n",
       "       [   2,    1,  110, ...,    0,    0,    0],\n",
       "       [   2,   27,   31, ...,    0,    0,    0],\n",
       "       ...,\n",
       "       [   2,   77,  121, ...,    0,    0,    0],\n",
       "       [   7,   28, 5248, ...,    0,    0,    0],\n",
       "       [   1,  478,    3, ...,    0,    0,    0]])"
      ]
     },
     "execution_count": 31,
     "metadata": {},
     "output_type": "execute_result"
    }
   ],
   "source": [
    "x_train"
   ]
  },
  {
   "cell_type": "code",
   "execution_count": 25,
   "metadata": {
    "colab": {},
    "colab_type": "code",
    "id": "w8GkHpsH-0c4"
   },
   "outputs": [],
   "source": [
    "from tensorflow.keras.models import Sequential, load_model\n",
    "from tensorflow.keras.layers import GRU, Dense, Input, Embedding, Dropout\n",
    "from tensorflow.keras.optimizers import Adam\n",
    "from tensorflow.keras.regularizers import l2\n",
    "from tensorflow.keras.losses import SparseCategoricalCrossentropy"
   ]
  },
  {
   "cell_type": "code",
   "execution_count": 32,
   "metadata": {
    "colab": {},
    "colab_type": "code",
    "id": "zaEAkQ1T-0dE"
   },
   "outputs": [],
   "source": [
    "model = Sequential()\n",
    "model.add(Embedding(input_dim=vocab_size, output_dim=embedding_dim, mask_zero=True))\n",
    "model.add(GRU(units=512, return_sequences=True))\n",
    "model.add(GRU(units=512, return_sequences=True))\n",
    "model.add(GRU(units=512, return_sequences=True))\n",
    "model.add(Dense(vocab_size))"
   ]
  },
  {
   "cell_type": "code",
   "execution_count": 33,
   "metadata": {},
   "outputs": [
    {
     "name": "stdout",
     "output_type": "stream",
     "text": [
      "Model: \"sequential_1\"\n",
      "_________________________________________________________________\n",
      "Layer (type)                 Output Shape              Param #   \n",
      "=================================================================\n",
      "embedding_1 (Embedding)      (None, None, 512)         6501376   \n",
      "_________________________________________________________________\n",
      "gru_3 (GRU)                  (None, None, 512)         1575936   \n",
      "_________________________________________________________________\n",
      "gru_4 (GRU)                  (None, None, 512)         1575936   \n",
      "_________________________________________________________________\n",
      "gru_5 (GRU)                  (None, None, 512)         1575936   \n",
      "_________________________________________________________________\n",
      "dense_1 (Dense)              (None, None, 12698)       6514074   \n",
      "=================================================================\n",
      "Total params: 17,743,258\n",
      "Trainable params: 17,743,258\n",
      "Non-trainable params: 0\n",
      "_________________________________________________________________\n"
     ]
    }
   ],
   "source": [
    "model.summary()"
   ]
  },
  {
   "cell_type": "code",
   "execution_count": 34,
   "metadata": {
    "colab": {},
    "colab_type": "code",
    "id": "a-afmZUd-0dL"
   },
   "outputs": [],
   "source": [
    "model.compile(optimizer=Adam(), loss=SparseCategoricalCrossentropy(from_logits=True), metrics=['accuracy'])"
   ]
  },
  {
   "cell_type": "code",
   "execution_count": 35,
   "metadata": {
    "colab": {
     "base_uri": "https://localhost:8080/",
     "height": 1000
    },
    "colab_type": "code",
    "executionInfo": {
     "elapsed": 1185302,
     "status": "ok",
     "timestamp": 1588757945355,
     "user": {
      "displayName": "rohan jagtap",
      "photoUrl": "https://lh3.googleusercontent.com/a-/AOh14GjFFnpJjw-7WaiTzz7xrkIJjBBwMs5i3OwVVYALIg=s64",
      "userId": "07173842849534370372"
     },
     "user_tz": -330
    },
    "id": "uVKkvmpb-0dQ",
    "outputId": "47f4ee48-7ba6-4203-f687-c0c59b22cc53"
   },
   "outputs": [
    {
     "name": "stdout",
     "output_type": "stream",
     "text": [
      "Epoch 1/5\n",
      "972/972 [==============================] - 124s 128ms/step - loss: 1.6867 - accuracy: 0.0821\n",
      "Epoch 2/5\n",
      "972/972 [==============================] - 128s 132ms/step - loss: 1.4633 - accuracy: 0.1517\n",
      "Epoch 3/5\n",
      "972/972 [==============================] - 127s 131ms/step - loss: 1.2091 - accuracy: 0.2274\n",
      "Epoch 4/5\n",
      "972/972 [==============================] - 125s 128ms/step - loss: 1.0985 - accuracy: 0.2599\n",
      "Epoch 5/5\n",
      "972/972 [==============================] - 125s 128ms/step - loss: 1.0158 - accuracy: 0.2853\n"
     ]
    }
   ],
   "source": [
    "history = model.fit(x_train, y_train, epochs=5, verbose=1) #400"
   ]
  },
  {
   "cell_type": "code",
   "execution_count": null,
   "metadata": {},
   "outputs": [],
   "source": [
    "model.save(\"model.h5\")\n",
    "#model = load_model(\"model.h5\")"
   ]
  },
  {
   "cell_type": "code",
   "execution_count": 43,
   "metadata": {},
   "outputs": [
    {
     "name": "stdout",
     "output_type": "stream",
     "text": [
      "Epoch 1/5\n",
      "972/972 [==============================] - 127s 130ms/step - loss: 0.9455 - accuracy: 0.3084\n",
      "Epoch 2/5\n",
      "972/972 [==============================] - 126s 129ms/step - loss: 0.8824 - accuracy: 0.3337\n",
      "Epoch 3/5\n",
      "972/972 [==============================] - 127s 130ms/step - loss: 0.8266 - accuracy: 0.3600\n",
      "Epoch 4/5\n",
      "972/972 [==============================] - 126s 130ms/step - loss: 0.7756 - accuracy: 0.3867\n",
      "Epoch 5/5\n",
      "972/972 [==============================] - 127s 131ms/step - loss: 0.7300 - accuracy: 0.4121\n"
     ]
    }
   ],
   "source": [
    "history2 = model.fit(x_train, y_train, epochs=5, verbose=1)"
   ]
  },
  {
   "cell_type": "code",
   "execution_count": 44,
   "metadata": {
    "colab": {},
    "colab_type": "code",
    "id": "eF9Z5xlkQ3Nm"
   },
   "outputs": [],
   "source": [
    "model.save(\"model_10_epochs.h5\")\n",
    "#model = load_model(\"model.h5\")"
   ]
  },
  {
   "cell_type": "code",
   "execution_count": 45,
   "metadata": {},
   "outputs": [
    {
     "name": "stdout",
     "output_type": "stream",
     "text": [
      "Epoch 1/5\n",
      "972/972 [==============================] - 127s 130ms/step - loss: 0.6881 - accuracy: 0.4377\n",
      "Epoch 2/5\n",
      "972/972 [==============================] - 127s 131ms/step - loss: 0.6500 - accuracy: 0.4619\n",
      "Epoch 3/5\n",
      "972/972 [==============================] - 125s 129ms/step - loss: 0.6143 - accuracy: 0.4853\n",
      "Epoch 4/5\n",
      "972/972 [==============================] - 125s 129ms/step - loss: 0.5820 - accuracy: 0.5077\n",
      "Epoch 5/5\n",
      "972/972 [==============================] - 125s 129ms/step - loss: 0.5524 - accuracy: 0.5281\n"
     ]
    }
   ],
   "source": [
    "history5 = model.fit(x_train, y_train, epochs=5, verbose=1)"
   ]
  },
  {
   "cell_type": "code",
   "execution_count": 46,
   "metadata": {
    "colab": {},
    "colab_type": "code",
    "id": "eF9Z5xlkQ3Nm"
   },
   "outputs": [],
   "source": [
    "model.save(\"model_15_epochs.h5\")\n",
    "#model = load_model(\"model5.h5\")"
   ]
  },
  {
   "cell_type": "code",
   "execution_count": 51,
   "metadata": {},
   "outputs": [
    {
     "name": "stdout",
     "output_type": "stream",
     "text": [
      "Epoch 1/5\n",
      "972/972 [==============================] - 125s 128ms/step - loss: 0.5253 - accuracy: 0.5477\n",
      "Epoch 2/5\n",
      "972/972 [==============================] - 125s 129ms/step - loss: 0.4999 - accuracy: 0.5662\n",
      "Epoch 3/5\n",
      "972/972 [==============================] - 125s 129ms/step - loss: 0.4772 - accuracy: 0.5840\n",
      "Epoch 4/5\n",
      "972/972 [==============================] - 125s 129ms/step - loss: 0.4571 - accuracy: 0.5983\n",
      "Epoch 5/5\n",
      "972/972 [==============================] - 125s 129ms/step - loss: 0.4379 - accuracy: 0.6130\n"
     ]
    }
   ],
   "source": [
    "history7 = model.fit(x_train, y_train, epochs=5, verbose=1)"
   ]
  },
  {
   "cell_type": "code",
   "execution_count": null,
   "metadata": {
    "colab": {},
    "colab_type": "code",
    "id": "eF9Z5xlkQ3Nm"
   },
   "outputs": [],
   "source": [
    "model.save(\"model7.h5\")\n",
    "#model = load_model(\"model.h5\")"
   ]
  },
  {
   "cell_type": "code",
   "execution_count": 55,
   "metadata": {},
   "outputs": [
    {
     "name": "stdout",
     "output_type": "stream",
     "text": [
      "Epoch 1/5\n",
      "972/972 [==============================] - 125s 128ms/step - loss: 0.4213 - accuracy: 0.6254\n",
      "Epoch 2/5\n",
      "972/972 [==============================] - 125s 128ms/step - loss: 0.4055 - accuracy: 0.6377\n",
      "Epoch 3/5\n",
      "972/972 [==============================] - 125s 128ms/step - loss: 0.3921 - accuracy: 0.6475\n",
      "Epoch 4/5\n",
      "972/972 [==============================] - 125s 128ms/step - loss: 0.3798 - accuracy: 0.6570\n",
      "Epoch 5/5\n",
      "972/972 [==============================] - 125s 129ms/step - loss: 0.3683 - accuracy: 0.6655\n"
     ]
    }
   ],
   "source": [
    "history11 = model.fit(x_train, y_train, epochs=5, verbose=1)"
   ]
  },
  {
   "cell_type": "code",
   "execution_count": 60,
   "metadata": {
    "colab": {},
    "colab_type": "code",
    "id": "eF9Z5xlkQ3Nm"
   },
   "outputs": [
    {
     "name": "stdout",
     "output_type": "stream",
     "text": [
      "Epoch 1/5\n",
      "972/972 [==============================] - 125s 129ms/step - loss: 0.3581 - accuracy: 0.6739\n",
      "Epoch 2/5\n",
      "972/972 [==============================] - 126s 130ms/step - loss: 0.3491 - accuracy: 0.6801\n",
      "Epoch 3/5\n",
      "972/972 [==============================] - 125s 129ms/step - loss: 0.3413 - accuracy: 0.6855\n",
      "Epoch 4/5\n",
      "972/972 [==============================] - 126s 129ms/step - loss: 0.3339 - accuracy: 0.6914\n",
      "Epoch 5/5\n",
      "972/972 [==============================] - 126s 129ms/step - loss: 0.3277 - accuracy: 0.6956\n"
     ]
    }
   ],
   "source": [
    "history12 = model.fit(x_train, y_train, epochs=5)"
   ]
  },
  {
   "cell_type": "code",
   "execution_count": 100,
   "metadata": {},
   "outputs": [],
   "source": [
    "model.save('model_30_epochs.h5')"
   ]
  },
  {
   "cell_type": "code",
   "execution_count": 93,
   "metadata": {},
   "outputs": [],
   "source": [
    "test_text = [\"go and sin no more\"]"
   ]
  },
  {
   "cell_type": "code",
   "execution_count": 94,
   "metadata": {},
   "outputs": [],
   "source": [
    "test_sequence = tokenizer.texts_to_sequences(test_text)"
   ]
  },
  {
   "cell_type": "code",
   "execution_count": 95,
   "metadata": {},
   "outputs": [],
   "source": [
    "test_padded = np.array(pad_sequences(test_sequence, maxlen=maxlen, padding='post', truncating='post'))"
   ]
  },
  {
   "cell_type": "code",
   "execution_count": 96,
   "metadata": {},
   "outputs": [
    {
     "data": {
      "text/plain": [
       "array([[ 80,   2, 215,  86, 152,   0,   0,   0,   0,   0,   0,   0,   0,\n",
       "          0,   0,   0,   0,   0,   0,   0,   0,   0,   0,   0,   0,   0,\n",
       "          0,   0,   0,   0,   0,   0,   0,   0,   0,   0,   0,   0,   0,\n",
       "          0,   0,   0,   0,   0,   0,   0,   0,   0,   0,   0,   0,   0,\n",
       "          0,   0,   0,   0,   0,   0,   0,   0,   0,   0,   0,   0,   0,\n",
       "          0,   0,   0,   0,   0,   0,   0,   0,   0,   0,   0,   0,   0,\n",
       "          0,   0,   0,   0,   0,   0,   0,   0,   0,   0,   0,   0]])"
      ]
     },
     "execution_count": 96,
     "metadata": {},
     "output_type": "execute_result"
    }
   ],
   "source": [
    "test_padded"
   ]
  },
  {
   "cell_type": "code",
   "execution_count": 97,
   "metadata": {},
   "outputs": [],
   "source": [
    "result = [' '.join([idx2word[np.argmax(arr)] for arr in model.predict(test_padded)[0]])]"
   ]
  },
  {
   "cell_type": "code",
   "execution_count": 98,
   "metadata": {},
   "outputs": [],
   "source": [
    "result_sequence = tokenizer.texts_to_sequences(result)"
   ]
  },
  {
   "cell_type": "code",
   "execution_count": 99,
   "metadata": {},
   "outputs": [
    {
     "name": "stdout",
     "output_type": "stream",
     "text": [
      "the kindly unto unto the not not not of not of not of of of of of of of of of of of of of of of of of of of of of of of of of of of of of of of of of of of of of of of of of of of of of of of of of of of of of of of of of of of of of of of of of of of of of of of of of of of of of of\n"
     ]
    }
   ],
   "source": [
    "print(' '.join([idx2word[np.argmax(arr)] for arr in model.predict(result_sequence)[0]]))"
   ]
  },
  {
   "cell_type": "code",
   "execution_count": 36,
   "metadata": {
    "colab": {},
    "colab_type": "code",
    "id": "SrchgcJv-0dZ"
   },
   "outputs": [],
   "source": [
    "def generate(word):\n",
    "    word = clean_text(word)\n",
    "    inputs = np.zeros((1, 1))\n",
    "    inputs[0, 0] = word2idx[word]\n",
    "    count = 1\n",
    "    while count <= 100:\n",
    "        pred = model.predict(inputs)\n",
    "        word = np.argmax(pred)\n",
    "        if word >= vocab_size:\n",
    "            word = vocab_size - 1\n",
    "\n",
    "        inputs[0, 0] = word\n",
    "        \n",
    "        print(idx2word[word], end=\" \")\n",
    "        count += 1\n"
   ]
  },
  {
   "cell_type": "code",
   "execution_count": 65,
   "metadata": {
    "colab": {
     "base_uri": "https://localhost:8080/",
     "height": 54
    },
    "colab_type": "code",
    "executionInfo": {
     "elapsed": 4330,
     "status": "ok",
     "timestamp": 1588758090979,
     "user": {
      "displayName": "rohan jagtap",
      "photoUrl": "https://lh3.googleusercontent.com/a-/AOh14GjFFnpJjw-7WaiTzz7xrkIJjBBwMs5i3OwVVYALIg=s64",
      "userId": "07173842849534370372"
     },
     "user_tz": -330
    },
    "id": "tQoTjmtY-0dh",
    "outputId": "ff8a5f5a-3029-4ad2-8812-420021f50f5d"
   },
   "outputs": [
    {
     "name": "stdout",
     "output_type": "stream",
     "text": [
      "to him that the lord i will he that the lord i will he that the lord i will he that the lord i will he that the lord i will he that the lord i will he that the lord i will he that the lord i will he that the lord i will he that the lord i will he that the lord i will he that the lord i will he that the lord i will he that the lord i will he that the lord i will he that the lord i will he that the "
     ]
    }
   ],
   "source": [
    "generate(\"glory\")"
   ]
  },
  {
   "cell_type": "code",
   "execution_count": 62,
   "metadata": {},
   "outputs": [
    {
     "name": "stdout",
     "output_type": "stream",
     "text": [
      "answered abraham begat glory to him that the lord i will he that the lord i will he that the lord i will he that the lord i will he that the lord i will he that the lord i will he that the lord i will he that the lord i will he that the lord i will he that the lord i will he that the lord i will he that the lord i will he that the lord i will he that the lord i will he that the lord i will he that the lord i "
     ]
    }
   ],
   "source": [
    "generate(\"jesus\")"
   ]
  },
  {
   "cell_type": "code",
   "execution_count": 63,
   "metadata": {},
   "outputs": [
    {
     "name": "stdout",
     "output_type": "stream",
     "text": [
      "of the lord i will he that the lord i will he that the lord i will he that the lord i will he that the lord i will he that the lord i will he that the lord i will he that the lord i will he that the lord i will he that the lord i will he that the lord i will he that the lord i will he that the lord i will he that the lord i will he that the lord i will he that the lord i will he that the lord i "
     ]
    }
   ],
   "source": [
    "generate(\"sin\")"
   ]
  },
  {
   "cell_type": "code",
   "execution_count": null,
   "metadata": {
    "colab": {
     "base_uri": "https://localhost:8080/",
     "height": 282
    },
    "colab_type": "code",
    "executionInfo": {
     "elapsed": 1051,
     "status": "ok",
     "timestamp": 1588758156804,
     "user": {
      "displayName": "rohan jagtap",
      "photoUrl": "https://lh3.googleusercontent.com/a-/AOh14GjFFnpJjw-7WaiTzz7xrkIJjBBwMs5i3OwVVYALIg=s64",
      "userId": "07173842849534370372"
     },
     "user_tz": -330
    },
    "id": "nWoOF4cwkp3l",
    "outputId": "1e5a3d73-2778-4561-d22a-7240749a327f"
   },
   "outputs": [],
   "source": [
    "import matplotlib.pyplot as plt\n",
    "\n",
    "plt.plot(range(50), history.history['loss'])"
   ]
  },
  {
   "cell_type": "code",
   "execution_count": null,
   "metadata": {
    "colab": {},
    "colab_type": "code",
    "id": "4-PKQnIuXZF1"
   },
   "outputs": [],
   "source": []
  }
 ],
 "metadata": {
  "colab": {
   "collapsed_sections": [],
   "name": "generator.ipynb",
   "provenance": []
  },
  "kernelspec": {
   "display_name": "Python 3.7 (tensorflow)",
   "language": "python",
   "name": "tensorflow"
  },
  "language_info": {
   "codemirror_mode": {
    "name": "ipython",
    "version": 3
   },
   "file_extension": ".py",
   "mimetype": "text/x-python",
   "name": "python",
   "nbconvert_exporter": "python",
   "pygments_lexer": "ipython3",
   "version": "3.8.3"
  }
 },
 "nbformat": 4,
 "nbformat_minor": 1
}
