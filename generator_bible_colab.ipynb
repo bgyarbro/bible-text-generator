{
  "nbformat": 4,
  "nbformat_minor": 0,
  "metadata": {
    "colab": {
      "name": "generator-bible.ipynb",
      "provenance": [],
      "collapsed_sections": [],
      "include_colab_link": true
    },
    "kernelspec": {
      "display_name": "Python 3",
      "language": "python",
      "name": "python3"
    },
    "language_info": {
      "codemirror_mode": {
        "name": "ipython",
        "version": 3
      },
      "file_extension": ".py",
      "mimetype": "text/x-python",
      "name": "python",
      "nbconvert_exporter": "python",
      "pygments_lexer": "ipython3",
      "version": "3.7.4"
    },
    "accelerator": "GPU"
  },
  "cells": [
    {
      "cell_type": "markdown",
      "metadata": {
        "id": "view-in-github",
        "colab_type": "text"
      },
      "source": [
        "<a href=\"https://colab.research.google.com/github/bgyarbro/bible-text-generator/blob/master/generator_bible_colab.ipynb\" target=\"_parent\"><img src=\"https://colab.research.google.com/assets/colab-badge.svg\" alt=\"Open In Colab\"/></a>"
      ]
    },
    {
      "cell_type": "code",
      "metadata": {
        "colab_type": "code",
        "id": "R7RNVjXQ-0ZK",
        "colab": {}
      },
      "source": [
        "import pandas as pd\n",
        "import numpy as np\n",
        "import re\n",
        "import os"
      ],
      "execution_count": 1,
      "outputs": []
    },
    {
      "cell_type": "code",
      "metadata": {
        "id": "9RlXZpinUzxl",
        "colab_type": "code",
        "colab": {
          "base_uri": "https://localhost:8080/",
          "height": 208
        },
        "outputId": "bbc3cbaa-e910-4cb7-8750-eec2f6302a4c"
      },
      "source": [
        "!wget --no-check-certificate \\\n",
        "  https://raw.githubusercontent.com/bgyarbro/bible-text-generator/master/kjv-1769-clean.txt \\\n",
        "  -O /tmp/kjv-1769-clean.txt"
      ],
      "execution_count": 2,
      "outputs": [
        {
          "output_type": "stream",
          "text": [
            "--2020-08-04 14:55:16--  https://raw.githubusercontent.com/bgyarbro/bible-text-generator/master/kjv-1769-clean.txt\n",
            "Resolving raw.githubusercontent.com (raw.githubusercontent.com)... 151.101.0.133, 151.101.64.133, 151.101.128.133, ...\n",
            "Connecting to raw.githubusercontent.com (raw.githubusercontent.com)|151.101.0.133|:443... connected.\n",
            "HTTP request sent, awaiting response... 200 OK\n",
            "Length: 4200408 (4.0M) [text/plain]\n",
            "Saving to: ‘/tmp/kjv-1769-clean.txt’\n",
            "\n",
            "\r/tmp/kjv-1769-clean   0%[                    ]       0  --.-KB/s               \r/tmp/kjv-1769-clean  79%[==============>     ]   3.19M  15.9MB/s               \r/tmp/kjv-1769-clean 100%[===================>]   4.00M  17.5MB/s    in 0.2s    \n",
            "\n",
            "2020-08-04 14:55:17 (17.5 MB/s) - ‘/tmp/kjv-1769-clean.txt’ saved [4200408/4200408]\n",
            "\n"
          ],
          "name": "stdout"
        }
      ]
    },
    {
      "cell_type": "code",
      "metadata": {
        "colab_type": "code",
        "id": "Odmu2urJ-0Zj",
        "colab": {}
      },
      "source": [
        "# reading Bible from file\n",
        "\n",
        "lines = []\n",
        "file = open(\"/tmp/kjv-1769-clean.txt\")\n",
        "lines.append(file.read())"
      ],
      "execution_count": 3,
      "outputs": []
    },
    {
      "cell_type": "code",
      "metadata": {
        "id": "udCdjsvkUwDR",
        "colab_type": "code",
        "colab": {}
      },
      "source": [
        "lines_split = lines[0].split(\"\\n\")"
      ],
      "execution_count": 4,
      "outputs": []
    },
    {
      "cell_type": "code",
      "metadata": {
        "id": "2p1GRNEeUwDU",
        "colab_type": "code",
        "colab": {
          "base_uri": "https://localhost:8080/",
          "height": 104
        },
        "outputId": "07a40fe5-1bb3-4885-e88e-84342601e7a4"
      },
      "source": [
        "lines_split[0:5]"
      ],
      "execution_count": 5,
      "outputs": [
        {
          "output_type": "execute_result",
          "data": {
            "text/plain": [
              "['\"\\'\\'\"',\n",
              " '\"In the beginning God created the heaven and the earth.\"',\n",
              " '\"And the earth was without form, and void; and darkness was upon the face of the deep. And the Spirit of God moved upon the face of the waters.\"',\n",
              " '\"And God said, Let there be light: and there was light.\"',\n",
              " '\"And God saw the light, that it was good: and God divided the light from the darkness.\"']"
            ]
          },
          "metadata": {
            "tags": []
          },
          "execution_count": 5
        }
      ]
    },
    {
      "cell_type": "code",
      "metadata": {
        "colab_type": "code",
        "id": "HWgevD-2-0Z5",
        "colab": {}
      },
      "source": [
        "lines = pd.DataFrame(lines_split, columns=['lines'])"
      ],
      "execution_count": 6,
      "outputs": []
    },
    {
      "cell_type": "code",
      "metadata": {
        "id": "rdhKmBrdUwDe",
        "colab_type": "code",
        "colab": {
          "base_uri": "https://localhost:8080/",
          "height": 202
        },
        "outputId": "6b543f46-0f62-44e1-badf-b7ec43b3f406"
      },
      "source": [
        "lines.head()"
      ],
      "execution_count": 7,
      "outputs": [
        {
          "output_type": "execute_result",
          "data": {
            "text/html": [
              "<div>\n",
              "<style scoped>\n",
              "    .dataframe tbody tr th:only-of-type {\n",
              "        vertical-align: middle;\n",
              "    }\n",
              "\n",
              "    .dataframe tbody tr th {\n",
              "        vertical-align: top;\n",
              "    }\n",
              "\n",
              "    .dataframe thead th {\n",
              "        text-align: right;\n",
              "    }\n",
              "</style>\n",
              "<table border=\"1\" class=\"dataframe\">\n",
              "  <thead>\n",
              "    <tr style=\"text-align: right;\">\n",
              "      <th></th>\n",
              "      <th>lines</th>\n",
              "    </tr>\n",
              "  </thead>\n",
              "  <tbody>\n",
              "    <tr>\n",
              "      <th>0</th>\n",
              "      <td>\"''\"</td>\n",
              "    </tr>\n",
              "    <tr>\n",
              "      <th>1</th>\n",
              "      <td>\"In the beginning God created the heaven and t...</td>\n",
              "    </tr>\n",
              "    <tr>\n",
              "      <th>2</th>\n",
              "      <td>\"And the earth was without form, and void; and...</td>\n",
              "    </tr>\n",
              "    <tr>\n",
              "      <th>3</th>\n",
              "      <td>\"And God said, Let there be light: and there w...</td>\n",
              "    </tr>\n",
              "    <tr>\n",
              "      <th>4</th>\n",
              "      <td>\"And God saw the light, that it was good: and ...</td>\n",
              "    </tr>\n",
              "  </tbody>\n",
              "</table>\n",
              "</div>"
            ],
            "text/plain": [
              "                                               lines\n",
              "0                                               \"''\"\n",
              "1  \"In the beginning God created the heaven and t...\n",
              "2  \"And the earth was without form, and void; and...\n",
              "3  \"And God said, Let there be light: and there w...\n",
              "4  \"And God saw the light, that it was good: and ..."
            ]
          },
          "metadata": {
            "tags": []
          },
          "execution_count": 7
        }
      ]
    },
    {
      "cell_type": "code",
      "metadata": {
        "id": "VfjTtPWLUwDi",
        "colab_type": "code",
        "colab": {}
      },
      "source": [
        "lines = lines[lines.lines != '\"\\'\\'\"']"
      ],
      "execution_count": 8,
      "outputs": []
    },
    {
      "cell_type": "code",
      "metadata": {
        "id": "SrKflCZDUwDl",
        "colab_type": "code",
        "colab": {
          "base_uri": "https://localhost:8080/",
          "height": 202
        },
        "outputId": "d15b4412-bcaf-4a6c-b419-27050e5962da"
      },
      "source": [
        "lines.head()"
      ],
      "execution_count": 9,
      "outputs": [
        {
          "output_type": "execute_result",
          "data": {
            "text/html": [
              "<div>\n",
              "<style scoped>\n",
              "    .dataframe tbody tr th:only-of-type {\n",
              "        vertical-align: middle;\n",
              "    }\n",
              "\n",
              "    .dataframe tbody tr th {\n",
              "        vertical-align: top;\n",
              "    }\n",
              "\n",
              "    .dataframe thead th {\n",
              "        text-align: right;\n",
              "    }\n",
              "</style>\n",
              "<table border=\"1\" class=\"dataframe\">\n",
              "  <thead>\n",
              "    <tr style=\"text-align: right;\">\n",
              "      <th></th>\n",
              "      <th>lines</th>\n",
              "    </tr>\n",
              "  </thead>\n",
              "  <tbody>\n",
              "    <tr>\n",
              "      <th>1</th>\n",
              "      <td>\"In the beginning God created the heaven and t...</td>\n",
              "    </tr>\n",
              "    <tr>\n",
              "      <th>2</th>\n",
              "      <td>\"And the earth was without form, and void; and...</td>\n",
              "    </tr>\n",
              "    <tr>\n",
              "      <th>3</th>\n",
              "      <td>\"And God said, Let there be light: and there w...</td>\n",
              "    </tr>\n",
              "    <tr>\n",
              "      <th>4</th>\n",
              "      <td>\"And God saw the light, that it was good: and ...</td>\n",
              "    </tr>\n",
              "    <tr>\n",
              "      <th>5</th>\n",
              "      <td>\"And God called the light Day, and the darknes...</td>\n",
              "    </tr>\n",
              "  </tbody>\n",
              "</table>\n",
              "</div>"
            ],
            "text/plain": [
              "                                               lines\n",
              "1  \"In the beginning God created the heaven and t...\n",
              "2  \"And the earth was without form, and void; and...\n",
              "3  \"And God said, Let there be light: and there w...\n",
              "4  \"And God saw the light, that it was good: and ...\n",
              "5  \"And God called the light Day, and the darknes..."
            ]
          },
          "metadata": {
            "tags": []
          },
          "execution_count": 9
        }
      ]
    },
    {
      "cell_type": "code",
      "metadata": {
        "colab_type": "code",
        "id": "tNTXifyV-0aI",
        "colab": {}
      },
      "source": [
        "def clean_text(sentence):\n",
        "    sentence = sentence.lower()\n",
        "    \n",
        "    sentence = re.sub(\"\\n\", \"\", sentence)\n",
        "\n",
        "    sentence = re.sub(\"[-*/()\\\"’'#/@;:<>{}`+=~|.!?,]\", \"\", sentence)\n",
        "    \n",
        "    return sentence"
      ],
      "execution_count": 10,
      "outputs": []
    },
    {
      "cell_type": "code",
      "metadata": {
        "colab_type": "code",
        "id": "d50elWmV-0aV",
        "colab": {}
      },
      "source": [
        "lines.lines = lines.lines.apply(lambda line: clean_text(line))"
      ],
      "execution_count": 11,
      "outputs": []
    },
    {
      "cell_type": "code",
      "metadata": {
        "colab_type": "code",
        "id": "1LO3UQhl-0al",
        "colab": {
          "base_uri": "https://localhost:8080/",
          "height": 202
        },
        "outputId": "0e92a47d-31dd-4eb8-d00c-647c5c5bfd4f"
      },
      "source": [
        "lines.head()"
      ],
      "execution_count": 12,
      "outputs": [
        {
          "output_type": "execute_result",
          "data": {
            "text/html": [
              "<div>\n",
              "<style scoped>\n",
              "    .dataframe tbody tr th:only-of-type {\n",
              "        vertical-align: middle;\n",
              "    }\n",
              "\n",
              "    .dataframe tbody tr th {\n",
              "        vertical-align: top;\n",
              "    }\n",
              "\n",
              "    .dataframe thead th {\n",
              "        text-align: right;\n",
              "    }\n",
              "</style>\n",
              "<table border=\"1\" class=\"dataframe\">\n",
              "  <thead>\n",
              "    <tr style=\"text-align: right;\">\n",
              "      <th></th>\n",
              "      <th>lines</th>\n",
              "    </tr>\n",
              "  </thead>\n",
              "  <tbody>\n",
              "    <tr>\n",
              "      <th>1</th>\n",
              "      <td>in the beginning god created the heaven and th...</td>\n",
              "    </tr>\n",
              "    <tr>\n",
              "      <th>2</th>\n",
              "      <td>and the earth was without form and void and da...</td>\n",
              "    </tr>\n",
              "    <tr>\n",
              "      <th>3</th>\n",
              "      <td>and god said let there be light and there was ...</td>\n",
              "    </tr>\n",
              "    <tr>\n",
              "      <th>4</th>\n",
              "      <td>and god saw the light that it was good and god...</td>\n",
              "    </tr>\n",
              "    <tr>\n",
              "      <th>5</th>\n",
              "      <td>and god called the light day and the darkness ...</td>\n",
              "    </tr>\n",
              "  </tbody>\n",
              "</table>\n",
              "</div>"
            ],
            "text/plain": [
              "                                               lines\n",
              "1  in the beginning god created the heaven and th...\n",
              "2  and the earth was without form and void and da...\n",
              "3  and god said let there be light and there was ...\n",
              "4  and god saw the light that it was good and god...\n",
              "5  and god called the light day and the darkness ..."
            ]
          },
          "metadata": {
            "tags": []
          },
          "execution_count": 12
        }
      ]
    },
    {
      "cell_type": "code",
      "metadata": {
        "colab_type": "code",
        "id": "sYDJq60DiwpR",
        "colab": {
          "base_uri": "https://localhost:8080/",
          "height": 35
        },
        "outputId": "895690b1-0263-440b-8434-c87115449222"
      },
      "source": [
        "lines.shape"
      ],
      "execution_count": 13,
      "outputs": [
        {
          "output_type": "execute_result",
          "data": {
            "text/plain": [
              "(31102, 1)"
            ]
          },
          "metadata": {
            "tags": []
          },
          "execution_count": 13
        }
      ]
    },
    {
      "cell_type": "code",
      "metadata": {
        "colab_type": "code",
        "id": "VKEfXByiFq_5",
        "colab": {}
      },
      "source": [
        "lines.lines = lines.lines.apply(lambda line: line.split())"
      ],
      "execution_count": 14,
      "outputs": []
    },
    {
      "cell_type": "code",
      "metadata": {
        "colab_type": "code",
        "id": "EX8mMxFv-0a5",
        "colab": {}
      },
      "source": [
        "x_train = [line[:-1] for line in lines.lines]\n",
        "y_train = [line[1:] for line in lines.lines]"
      ],
      "execution_count": 15,
      "outputs": []
    },
    {
      "cell_type": "code",
      "metadata": {
        "colab_type": "code",
        "id": "t6cueFD--0bb",
        "colab": {}
      },
      "source": [
        "from tensorflow.keras.preprocessing.text import Tokenizer\n",
        "from tensorflow.keras.preprocessing.sequence import pad_sequences"
      ],
      "execution_count": 16,
      "outputs": []
    },
    {
      "cell_type": "code",
      "metadata": {
        "colab_type": "code",
        "id": "tT51cTsN-0bm",
        "colab": {}
      },
      "source": [
        "tokenizer = Tokenizer()"
      ],
      "execution_count": 17,
      "outputs": []
    },
    {
      "cell_type": "code",
      "metadata": {
        "colab_type": "code",
        "id": "wsTwQX2a-0by",
        "colab": {}
      },
      "source": [
        "tokenizer.fit_on_texts(lines.lines)"
      ],
      "execution_count": 18,
      "outputs": []
    },
    {
      "cell_type": "code",
      "metadata": {
        "colab_type": "code",
        "id": "xyZARYVe-0b-",
        "colab": {}
      },
      "source": [
        "x_train = tokenizer.texts_to_sequences(x_train)\n",
        "y_train = tokenizer.texts_to_sequences(y_train)"
      ],
      "execution_count": 19,
      "outputs": []
    },
    {
      "cell_type": "code",
      "metadata": {
        "colab_type": "code",
        "id": "JivHjswYQqsD",
        "colab": {}
      },
      "source": [
        "word2idx = tokenizer.word_index\n",
        "idx2word = {value: key for key, value in word2idx.items()}"
      ],
      "execution_count": 20,
      "outputs": []
    },
    {
      "cell_type": "code",
      "metadata": {
        "colab_type": "code",
        "id": "gc1P4IYWlDzV",
        "colab": {}
      },
      "source": [
        "word2idx[\"<pad>\"] = 0\n",
        "idx2word[0] = \"<pad>\""
      ],
      "execution_count": 21,
      "outputs": []
    },
    {
      "cell_type": "code",
      "metadata": {
        "colab_type": "code",
        "id": "hYmlGZ8E-0cQ",
        "colab": {
          "base_uri": "https://localhost:8080/",
          "height": 173
        },
        "outputId": "b3942d30-24d2-4a93-c865-a787c7ef80aa"
      },
      "source": [
        "lengths = []\n",
        "\n",
        "for sequence in x_train:\n",
        "    lengths.append(len(sequence))\n",
        "    \n",
        "lengths = pd.Series(lengths)\n",
        "lengths.describe()"
      ],
      "execution_count": 22,
      "outputs": [
        {
          "output_type": "execute_result",
          "data": {
            "text/plain": [
              "count    31102.000000\n",
              "mean        24.387885\n",
              "std         11.079740\n",
              "min          1.000000\n",
              "25%         16.000000\n",
              "50%         23.000000\n",
              "75%         31.000000\n",
              "max         89.000000\n",
              "dtype: float64"
            ]
          },
          "metadata": {
            "tags": []
          },
          "execution_count": 22
        }
      ]
    },
    {
      "cell_type": "code",
      "metadata": {
        "colab_type": "code",
        "id": "v3IdStVW-0ch",
        "colab": {
          "base_uri": "https://localhost:8080/",
          "height": 35
        },
        "outputId": "2f98eb59-c835-48f3-c1da-03df19f9610f"
      },
      "source": [
        "maxlen = 90\n",
        "vocab_size = len(tokenizer.word_index) + 1\n",
        "embedding_dim = 1024\n",
        "vocab_size"
      ],
      "execution_count": 23,
      "outputs": [
        {
          "output_type": "execute_result",
          "data": {
            "text/plain": [
              "12693"
            ]
          },
          "metadata": {
            "tags": []
          },
          "execution_count": 23
        }
      ]
    },
    {
      "cell_type": "code",
      "metadata": {
        "colab_type": "code",
        "id": "AY_uinnF-0co",
        "colab": {}
      },
      "source": [
        "x_train = pad_sequences(x_train, maxlen=maxlen, padding='post', truncating='post')\n",
        "y_train = pad_sequences(y_train, maxlen=maxlen, padding='post', truncating='post')"
      ],
      "execution_count": 24,
      "outputs": []
    },
    {
      "cell_type": "code",
      "metadata": {
        "id": "FaeEyz6PUwEG",
        "colab_type": "code",
        "colab": {
          "base_uri": "https://localhost:8080/",
          "height": 295
        },
        "outputId": "652d3445-4152-4f0a-aab7-9d8db2daacc6"
      },
      "source": [
        "print(x_train.shape)\n",
        "print(y_train.shape)\n",
        "print(x_train[0])\n",
        "print(y_train[0])"
      ],
      "execution_count": 25,
      "outputs": [
        {
          "output_type": "stream",
          "text": [
            "(31102, 90)\n",
            "(31102, 90)\n",
            "[   6    1  678   27 1301    1  172    2    1    0    0    0    0    0\n",
            "    0    0    0    0    0    0    0    0    0    0    0    0    0    0\n",
            "    0    0    0    0    0    0    0    0    0    0    0    0    0    0\n",
            "    0    0    0    0    0    0    0    0    0    0    0    0    0    0\n",
            "    0    0    0    0    0    0    0    0    0    0    0    0    0    0\n",
            "    0    0    0    0    0    0    0    0    0    0    0    0    0    0\n",
            "    0    0    0    0    0    0]\n",
            "[   1  678   27 1301    1  172    2    1  110    0    0    0    0    0\n",
            "    0    0    0    0    0    0    0    0    0    0    0    0    0    0\n",
            "    0    0    0    0    0    0    0    0    0    0    0    0    0    0\n",
            "    0    0    0    0    0    0    0    0    0    0    0    0    0    0\n",
            "    0    0    0    0    0    0    0    0    0    0    0    0    0    0\n",
            "    0    0    0    0    0    0    0    0    0    0    0    0    0    0\n",
            "    0    0    0    0    0    0]\n"
          ],
          "name": "stdout"
        }
      ]
    },
    {
      "cell_type": "code",
      "metadata": {
        "colab_type": "code",
        "id": "w8GkHpsH-0c4",
        "colab": {}
      },
      "source": [
        "from tensorflow.keras.models import Sequential, load_model\n",
        "from tensorflow.keras.layers import GRU, Dense, Input, Embedding, Dropout\n",
        "from tensorflow.keras.optimizers import Adam\n",
        "from tensorflow.keras.regularizers import l2\n",
        "from tensorflow.keras.losses import SparseCategoricalCrossentropy"
      ],
      "execution_count": 26,
      "outputs": []
    },
    {
      "cell_type": "code",
      "metadata": {
        "colab_type": "code",
        "id": "zaEAkQ1T-0dE",
        "colab": {}
      },
      "source": [
        "model = Sequential()\n",
        "model.add(Embedding(input_dim=vocab_size, output_dim=embedding_dim, mask_zero=True))\n",
        "model.add(GRU(units=1024, return_sequences=True))\n",
        "model.add(Dense(vocab_size))"
      ],
      "execution_count": 27,
      "outputs": []
    },
    {
      "cell_type": "code",
      "metadata": {
        "colab_type": "code",
        "id": "a-afmZUd-0dL",
        "colab": {}
      },
      "source": [
        "model.compile(optimizer=Adam(), loss=SparseCategoricalCrossentropy(from_logits=True), metrics=['accuracy'])"
      ],
      "execution_count": 28,
      "outputs": []
    },
    {
      "cell_type": "code",
      "metadata": {
        "colab_type": "code",
        "id": "uVKkvmpb-0dQ",
        "colab": {
          "base_uri": "https://localhost:8080/",
          "height": 364
        },
        "outputId": "9ec44422-8a5d-477c-eb16-0e5bdff98efa"
      },
      "source": [
        "history = model.fit(x_train, y_train, epochs=10, verbose=1)"
      ],
      "execution_count": 29,
      "outputs": [
        {
          "output_type": "stream",
          "text": [
            "Epoch 1/10\n",
            "972/972 [==============================] - 190s 195ms/step - loss: 1.3231 - accuracy: 0.2092\n",
            "Epoch 2/10\n",
            "972/972 [==============================] - 190s 195ms/step - loss: 1.0506 - accuracy: 0.2818\n",
            "Epoch 3/10\n",
            "972/972 [==============================] - 190s 195ms/step - loss: 0.9036 - accuracy: 0.3279\n",
            "Epoch 4/10\n",
            "972/972 [==============================] - 189s 195ms/step - loss: 0.7768 - accuracy: 0.3824\n",
            "Epoch 5/10\n",
            "972/972 [==============================] - 189s 194ms/step - loss: 0.6698 - accuracy: 0.4435\n",
            "Epoch 6/10\n",
            "972/972 [==============================] - 189s 194ms/step - loss: 0.5823 - accuracy: 0.5016\n",
            "Epoch 7/10\n",
            "972/972 [==============================] - 189s 194ms/step - loss: 0.5099 - accuracy: 0.5535\n",
            "Epoch 8/10\n",
            "972/972 [==============================] - 188s 194ms/step - loss: 0.4513 - accuracy: 0.5990\n",
            "Epoch 9/10\n",
            "972/972 [==============================] - 189s 195ms/step - loss: 0.4038 - accuracy: 0.6376\n",
            "Epoch 10/10\n",
            "972/972 [==============================] - 193s 198ms/step - loss: 0.3670 - accuracy: 0.6683\n"
          ],
          "name": "stdout"
        }
      ]
    },
    {
      "cell_type": "code",
      "metadata": {
        "id": "8TfL_p7SUwEU",
        "colab_type": "code",
        "colab": {}
      },
      "source": [
        "#model.save(\"model.h5\")\n",
        "#model = load_model(\"model.h5\")"
      ],
      "execution_count": null,
      "outputs": []
    },
    {
      "cell_type": "code",
      "metadata": {
        "colab_type": "code",
        "id": "SrchgcJv-0dZ",
        "colab": {}
      },
      "source": [
        "def generate(word):\n",
        "    word = clean_text(word)\n",
        "    inputs = np.zeros((1, 1))\n",
        "    inputs[0, 0] = word2idx[word]\n",
        "    count = 1\n",
        "    while count <= 100:\n",
        "        pred = model.predict(inputs)\n",
        "        word = np.argmax(pred)\n",
        "        if word >= vocab_size:\n",
        "            word = vocab_size - 1\n",
        "\n",
        "        inputs[0, 0] = word\n",
        "        \n",
        "        print(idx2word[word], end=\" \")\n",
        "        count += 1\n"
      ],
      "execution_count": 30,
      "outputs": []
    },
    {
      "cell_type": "code",
      "metadata": {
        "colab_type": "code",
        "id": "tQoTjmtY-0dh",
        "colab": {
          "base_uri": "https://localhost:8080/",
          "height": 55
        },
        "outputId": "f12d1221-f4b2-4a49-ca8d-9b4c873f7a8c"
      },
      "source": [
        "generate(\"god\")"
      ],
      "execution_count": 35,
      "outputs": [
        {
          "output_type": "stream",
          "text": [
            "reigneth over against whom i will he that the lord thou shalt thou shalt thou shalt thou shalt thou shalt thou shalt thou shalt thou shalt thou shalt thou shalt thou shalt thou shalt thou shalt thou shalt thou shalt thou shalt thou shalt thou shalt thou shalt thou shalt thou shalt thou shalt thou shalt thou shalt thou shalt thou shalt thou shalt thou shalt thou shalt thou shalt thou shalt thou shalt thou shalt thou shalt thou shalt thou shalt thou shalt thou shalt thou shalt thou shalt thou shalt thou shalt thou shalt thou shalt thou shalt "
          ],
          "name": "stdout"
        }
      ]
    },
    {
      "cell_type": "code",
      "metadata": {
        "colab_type": "code",
        "id": "nWoOF4cwkp3l",
        "colab": {
          "base_uri": "https://localhost:8080/",
          "height": 283
        },
        "outputId": "dc9b93f2-632b-4c99-aaaf-4075ccbfa9b3"
      },
      "source": [
        "import matplotlib.pyplot as plt\n",
        "\n",
        "plt.plot(range(10), history.history['loss'])"
      ],
      "execution_count": 33,
      "outputs": [
        {
          "output_type": "execute_result",
          "data": {
            "text/plain": [
              "[<matplotlib.lines.Line2D at 0x7fc7c32924e0>]"
            ]
          },
          "metadata": {
            "tags": []
          },
          "execution_count": 33
        },
        {
          "output_type": "display_data",
          "data": {
            "image/png": "[encoded data removed]",
            "text/plain": [
              "<Figure size 432x288 with 1 Axes>"
            ]
          },
          "metadata": {
            "tags": [],
            "needs_background": "light"
          }
        }
      ]
    },
    {
      "cell_type": "code",
      "metadata": {
        "colab_type": "code",
        "id": "4-PKQnIuXZF1",
        "colab": {}
      },
      "source": [
        ""
      ],
      "execution_count": null,
      "outputs": []
    }
  ]
}